{
  "nbformat": 4,
  "nbformat_minor": 0,
  "metadata": {
    "colab": {
      "provenance": [],
      "authorship_tag": "ABX9TyMkoMM4FiTvG3MjLCQTiuhG",
      "include_colab_link": true
    },
    "kernelspec": {
      "name": "python3",
      "display_name": "Python 3"
    },
    "language_info": {
      "name": "python"
    }
  },
  "cells": [
    {
      "cell_type": "markdown",
      "metadata": {
        "id": "view-in-github",
        "colab_type": "text"
      },
      "source": [
        "<a href=\"https://colab.research.google.com/github/NotHyoone/C_language/blob/main/test.ipynb\" target=\"_parent\"><img src=\"https://colab.research.google.com/assets/colab-badge.svg\" alt=\"Open In Colab\"/></a>"
      ]
    },
    {
      "cell_type": "code",
      "source": [
        "import math\n",
        "\n",
        "test_case = int(input(\"테스트 케이스의 개수를 입력하세요.\"))\n",
        "count = 1\n",
        "print(test_case)\n",
        "\n",
        "#두 점 사이의 거리 구하기\n",
        "def distance(x1, y1, x2, y2):\n",
        "  result = math.sqrt( (x1-x2)**2 + (y1-y2)**2 )\n",
        "  return result\n",
        "\n",
        "while test_case >= count:  #test_case가 count보다 크거나 같을 때 반복\n",
        "  #(조규현 x좌표, 조규현 y좌표, 조규현이 계산한 류재명과의 거리, 백승환의 x좌표, 백승환의 y좌표, 백승환이 계산한 류재명과의 거리)\n",
        "  inputs = input(\"조규현과 백승환의 x좌표, y좌표, 둘 사이의 거리를 각각 입력하시오.\")\n",
        "  #공백을 기준으로 입력 분리\n",
        "  input_list = inputs.split()\n",
        "\n",
        "  J_X = int(input_list[0])\n",
        "  J_Y = int(input_list[1])\n",
        "  J_D = int(input_list[2])\n",
        "  B_X = int(input_list[3])\n",
        "  B_Y = int(input_list[4])\n",
        "  B_D = int(input_list[5])\n",
        "\n",
        "  distance_result = int(distance(J_X, J_Y, B_X, B_Y))\n",
        "\n",
        "  print(J_X, J_Y, J_D, B_X, B_Y, B_D)  #좌표와 거리 입력 값 출력\n",
        "\n",
        "  if J_X == J_Y == J_D == B_X == B_Y == B_D:  #모든 값이 같으면 원이 일치해서 교점이 무한대이다.\n",
        "    print(-1)\n",
        "\n",
        "  elif J_X == J_Y == B_X == B_Y:  #조규현의 x,y 좌표와 백승환의 x,y 좌표가 같고, 거리가 다르면 교점은 없다.\n",
        "    print(0)\n",
        "\n",
        "  elif (J_D + B_D) == distance_result:  #J_D + B_D 와 두 좌표 사이의 거리가 같으면 교점은 1개\n",
        "    print(1)\n",
        "\n",
        "  elif (J_D + B_D) > distance_result:   #J_D + B_D 보다 두 좌표 사이의 거리가 더 작다면 교점 2개\n",
        "    print(2)\n",
        "\n",
        "  count += 1\n",
        "\n",
        "  continue"
      ],
      "metadata": {
        "id": "a1znGlyG7Gsv",
        "colab": {
          "base_uri": "https://localhost:8080/"
        },
        "outputId": "c0d146db-a83b-4ec4-8a5f-86bf9f94f914"
      },
      "execution_count": null,
      "outputs": [
        {
          "output_type": "stream",
          "name": "stdout",
          "text": [
            "테스트 케이스의 개수를 입력하세요.3\n",
            "3\n",
            "조규현과 백승환의 x좌표, y좌표, 둘 사이의 거리를 각각 입력하시오.0 0 13 40 0 37\n",
            "0 0 13 40 0 37\n",
            "2\n",
            "조규현과 백승환의 x좌표, y좌표, 둘 사이의 거리를 각각 입력하시오.0 0 3 0 7 4\n",
            "0 0 3 0 7 4\n",
            "1\n",
            "조규현과 백승환의 x좌표, y좌표, 둘 사이의 거리를 각각 입력하시오.1 1 1 1 1 5\n",
            "1 1 1 1 1 5\n",
            "0\n"
          ]
        }
      ]
    },
    {
      "cell_type": "code",
      "source": [
        "\n",
        "  #두 원의 서로 다른 교점이 두 개인 경우\n",
        "  if c_dist > (B_D - J_D)**2 and c_dist < (J_D + B_D)**2:\n",
        "    print(2)\n",
        "  #두 원이 한 점에서 만나는 경우\n",
        "  elif c_dist == (J_D + B_D)**2:\n",
        "    print(1)\n",
        "  #두 원이 만나지 않는 경우\n",
        "  elif c_dist > (J_D + B_D)**2 and c_dist < (B_D - J_D)**2:\n",
        "    print(0)\n",
        "  #두 원이 일치하는 경우\n",
        "  else:\n",
        "    print(-1)"
      ],
      "metadata": {
        "id": "943Lpp8uAMs3"
      },
      "execution_count": null,
      "outputs": []
    },
    {
      "cell_type": "markdown",
      "source": [
        "###baekjoon 1002번 터렛 문제"
      ],
      "metadata": {
        "id": "rp5KmwxJxAFO"
      }
    },
    {
      "cell_type": "code",
      "source": [
        "import math\n",
        "\n",
        "test_case = int(input())\n",
        "\n",
        "#좌표 사이의 거리 구하는 함수\n",
        "def center_distance(x1, y1, x2, y2):\n",
        "  return (x1-x2) ** 2 + (y1-y2) ** 2\n",
        "\n",
        "for _ in range(test_case):\n",
        "  J_X, J_Y, J_D, B_X, B_Y, B_D = map(int, input().split())\n",
        "\n",
        "  c_dist = float(center_distance(J_X, J_Y, B_X, B_Y))\n",
        "\n",
        "  dist_add = (J_D + B_D) ** 2\n",
        "  dist_sub = (J_D - B_D) ** 2\n",
        "\n",
        "  if J_X == B_X and J_Y == B_Y and J_D == B_D:\n",
        "    print(-1)\n",
        "  elif c_dist > dist_add:\n",
        "    print(0)\n",
        "  elif c_dist == dist_add:\n",
        "    print(1)\n",
        "  elif dist_sub < c_dist:\n",
        "    print(2)\n",
        "  elif c_dist == dist_sub:\n",
        "    print(1)\n",
        "  else:\n",
        "    print(0)"
      ],
      "metadata": {
        "colab": {
          "base_uri": "https://localhost:8080/"
        },
        "id": "GN1ozviZWxVc",
        "outputId": "4e083b0d-edea-4e96-97b2-b1b3a2865542"
      },
      "execution_count": null,
      "outputs": [
        {
          "output_type": "stream",
          "name": "stdout",
          "text": [
            "3\n",
            "0 0 13 40 0 37\n",
            "2\n",
            "0 0 3 0 7 4\n",
            "1\n",
            "1 1 1 1 1 5\n",
            "0\n"
          ]
        }
      ]
    }
  ]
}